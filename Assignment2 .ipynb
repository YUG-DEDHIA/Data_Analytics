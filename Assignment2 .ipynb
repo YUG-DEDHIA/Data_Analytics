{
 "cells": [
  {
   "cell_type": "code",
   "execution_count": 1,
   "id": "3507d481",
   "metadata": {},
   "outputs": [],
   "source": [
    "import pandas as pd\n",
    "import numpy as np\n",
    "import matplotlib\n",
    "from matplotlib import pyplot as plt\n",
    "import xlrd"
   ]
  },
  {
   "cell_type": "code",
   "execution_count": 2,
   "id": "c092e3df",
   "metadata": {},
   "outputs": [],
   "source": [
    "df = pd.read_excel('cleaned_data.xlsx')"
   ]
  },
  {
   "cell_type": "markdown",
   "id": "70023929",
   "metadata": {},
   "source": [
    "## Part 1: Getting Characteristic Rules\n",
    "### Step 1: Removing columns with no higher purpose"
   ]
  },
  {
   "cell_type": "code",
   "execution_count": 3,
   "id": "dcd5845f",
   "metadata": {
    "scrolled": true
   },
   "outputs": [
    {
     "data": {
      "text/plain": [
       "Index(['Property_type', 'Property_status', 'Price_per_unit_area', 'Posted_On',\n",
       "       'Property_building_status', 'City_id', 'City_name', 'No_of_BHK',\n",
       "       'Locality_ID', 'Locality_Name', 'Longitude', 'Latitude', 'Price',\n",
       "       'Size', 'Sub_urban_ID', 'Sub_urban_name', 'is_furnished',\n",
       "       'listing_domain_score', 'is_plot', 'is_RERA_registered', 'is_Apartment',\n",
       "       'is_ready_to_move', 'is_commercial_Listing', 'is_PentaHouse',\n",
       "       'is_studio', 'Listing_Category'],\n",
       "      dtype='object')"
      ]
     },
     "execution_count": 3,
     "metadata": {},
     "output_type": "execute_result"
    }
   ],
   "source": [
    "df=df.drop(['Property_Name','Property_id','Project_URL','builder_id','Builder_name','description'], axis=1)\n",
    "df.columns"
   ]
  },
  {
   "cell_type": "markdown",
   "id": "0918da94",
   "metadata": {},
   "source": [
    "### Step 2: Generalization\n",
    "#### Generalizing Price_per_unit_area"
   ]
  },
  {
   "cell_type": "code",
   "execution_count": 4,
   "id": "c3fc296d",
   "metadata": {},
   "outputs": [
    {
     "data": {
      "text/plain": [
       "0         Medium\n",
       "1         Medium\n",
       "2         Medium\n",
       "3            Low\n",
       "4         Medium\n",
       "           ...  \n",
       "143703      High\n",
       "143704      High\n",
       "143705      High\n",
       "143706      High\n",
       "143707      High\n",
       "Name: Price_per_unit_area, Length: 143708, dtype: object"
      ]
     },
     "execution_count": 4,
     "metadata": {},
     "output_type": "execute_result"
    }
   ],
   "source": [
    "df['Price_per_unit_area'] = df['Price_per_unit_area'].astype(str)\n",
    "df['Price_per_unit_area']=df['Price_per_unit_area'].str.replace(',','')#removed all the commas\n",
    "df['Price_per_unit_area']=df['Price_per_unit_area'].astype(float)#converted string to integer\n",
    "df['Price_per_unit_area']=df['Price_per_unit_area'].mask(df['Price_per_unit_area']<=4000,0)\n",
    "df['Price_per_unit_area']=df['Price_per_unit_area'].mask(df['Price_per_unit_area'].between(4000,8000),1)\n",
    "df['Price_per_unit_area']=df['Price_per_unit_area'].mask(df['Price_per_unit_area']>8000,2)\n",
    "df['Price_per_unit_area']=df['Price_per_unit_area'].replace({0:'Low',1:'Medium',2:'High'})\n",
    "df['Price_per_unit_area']"
   ]
  },
  {
   "cell_type": "markdown",
   "id": "0c359fbd",
   "metadata": {},
   "source": [
    "#### Generalizing Price"
   ]
  },
  {
   "cell_type": "code",
   "execution_count": 5,
   "id": "a800eb6e",
   "metadata": {},
   "outputs": [
    {
     "data": {
      "text/plain": [
       "0         Medium\n",
       "1           High\n",
       "2         Medium\n",
       "3            Low\n",
       "4         Medium\n",
       "           ...  \n",
       "143703       Low\n",
       "143704       Low\n",
       "143705       Low\n",
       "143706       Low\n",
       "143707       Low\n",
       "Name: Price, Length: 143708, dtype: object"
      ]
     },
     "execution_count": 5,
     "metadata": {},
     "output_type": "execute_result"
    }
   ],
   "source": [
    "df['Price']=df['Price'].astype(str)\n",
    "df['Price']=df['Price'].str.replace(',','')#removed all the commas\n",
    "df['Price']=df['Price'].astype(float)\n",
    "df['Price']=df['Price'].mask(df['Price']<=6000000,0)\n",
    "df['Price']=df['Price'].mask(df['Price'].between(6000000,15000000),1)\n",
    "df['Price']=df['Price'].mask(df['Price']>15000000,2)\n",
    "df['Price']=df['Price'].replace({0:'Low',1:'Medium',2:'High'})\n",
    "df['Price']"
   ]
  },
  {
   "cell_type": "markdown",
   "id": "2548d982",
   "metadata": {},
   "source": [
    "#### Generalizing Size"
   ]
  },
  {
   "cell_type": "code",
   "execution_count": 6,
   "id": "bd5ec24f",
   "metadata": {},
   "outputs": [],
   "source": [
    "df['Size']=df['Size'].astype(str)\n",
    "df['Size'] = df['Size'].str.replace(',','')\n",
    "df['Size'] = df['Size'].str.replace(' sq ft','')\n",
    "df['Size'] = df['Size'].astype(float)\n",
    "df['Size']=df['Size'].mask(df['Size']<=2000,0)\n",
    "df['Size']=df['Size'].mask(df['Size'].between(2000,10000),1)\n",
    "df['Size']=df['Size'].mask(df['Size']>10000,2)\n",
    "df['Size']=df['Size'].replace({0:'Low',1:'Medium',2:'High'})\n"
   ]
  },
  {
   "cell_type": "code",
   "execution_count": 7,
   "id": "1759682b",
   "metadata": {},
   "outputs": [
    {
     "data": {
      "text/plain": [
       "0        Low\n",
       "1     Medium\n",
       "2     Medium\n",
       "3        Low\n",
       "4        Low\n",
       "       ...  \n",
       "95       Low\n",
       "96    Medium\n",
       "97       Low\n",
       "98       Low\n",
       "99    Medium\n",
       "Name: Size, Length: 100, dtype: object"
      ]
     },
     "execution_count": 7,
     "metadata": {},
     "output_type": "execute_result"
    }
   ],
   "source": [
    "df['Size'].head(100)"
   ]
  },
  {
   "cell_type": "code",
   "execution_count": 8,
   "id": "e3c9ec6a",
   "metadata": {},
   "outputs": [
    {
     "name": "stdout",
     "output_type": "stream",
     "text": [
      "8 84 1244\n"
     ]
    }
   ],
   "source": [
    "# concept hierarchy->\"locality->sub-urban->city\"\n",
    "city_no=df['City_name'].unique()\n",
    "suburban_no=df['Sub_urban_name'].unique()\n",
    "localities_no=df['Locality_Name'].unique()\n",
    "print(len(city_no),len(suburban_no),len(localities_no))"
   ]
  },
  {
   "cell_type": "code",
   "execution_count": 9,
   "id": "9a68bfc3",
   "metadata": {},
   "outputs": [
    {
     "data": {
      "text/plain": [
       "Index(['Property_type', 'Property_status', 'Price_per_unit_area', 'Posted_On',\n",
       "       'Property_building_status', 'City_id', 'City_name', 'No_of_BHK',\n",
       "       'Longitude', 'Latitude', 'Price', 'Size', 'is_furnished',\n",
       "       'listing_domain_score', 'is_plot', 'is_RERA_registered', 'is_Apartment',\n",
       "       'is_ready_to_move', 'is_commercial_Listing', 'is_PentaHouse',\n",
       "       'is_studio', 'Listing_Category'],\n",
       "      dtype='object')"
      ]
     },
     "execution_count": 9,
     "metadata": {},
     "output_type": "execute_result"
    }
   ],
   "source": [
    "#considering generalization threshold as 10\n",
    "#since there are 8 cities so cities will not be generalized\n",
    "#both suburban and localities will be generalized to cities\n",
    "#since we already have a column for cities we will drop both suburban and localities\n",
    "df=df.drop(['Locality_Name','Locality_ID','Sub_urban_name','Sub_urban_ID'],axis=1)\n",
    "df.columns"
   ]
  },
  {
   "cell_type": "code",
   "execution_count": 10,
   "id": "e38006df",
   "metadata": {},
   "outputs": [
    {
     "data": {
      "text/plain": [
       "Index(['Property_type', 'Property_status', 'Price_per_unit_area', 'Posted_On',\n",
       "       'Property_building_status', 'City_id', 'City_name', 'No_of_BHK',\n",
       "       'Longitude', 'Latitude', 'Size', 'is_furnished', 'listing_domain_score',\n",
       "       'is_plot', 'is_RERA_registered', 'is_Apartment', 'is_ready_to_move',\n",
       "       'is_commercial_Listing', 'is_PentaHouse', 'is_studio',\n",
       "       'Listing_Category'],\n",
       "      dtype='object')"
      ]
     },
     "execution_count": 10,
     "metadata": {},
     "output_type": "execute_result"
    }
   ],
   "source": [
    "#Since price can be calculated from price_per_unit_area and size therefore price column should be removed.\n",
    "df=df.drop(['Price'],axis=1)\n",
    "df.columns"
   ]
  },
  {
   "cell_type": "code",
   "execution_count": null,
   "id": "831d4081",
   "metadata": {},
   "outputs": [],
   "source": []
  }
 ],
 "metadata": {
  "kernelspec": {
   "display_name": "Python 3 (ipykernel)",
   "language": "python",
   "name": "python3"
  },
  "language_info": {
   "codemirror_mode": {
    "name": "ipython",
    "version": 3
   },
   "file_extension": ".py",
   "mimetype": "text/x-python",
   "name": "python",
   "nbconvert_exporter": "python",
   "pygments_lexer": "ipython3",
   "version": "3.10.6"
  }
 },
 "nbformat": 4,
 "nbformat_minor": 5
}
