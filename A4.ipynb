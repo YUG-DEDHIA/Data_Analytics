{
 "cells": [
  {
   "cell_type": "code",
   "execution_count": 1,
   "id": "1e414c3b",
   "metadata": {},
   "outputs": [],
   "source": [
    "import pandas as pd\n",
    "import numpy as np\n",
    "from sklearn import datasets\n",
    "from sklearn.metrics import confusion_matrix"
   ]
  },
  {
   "cell_type": "code",
   "execution_count": 51,
   "id": "ffa91b4d",
   "metadata": {},
   "outputs": [],
   "source": [
    "df = pd.read_csv('penguins_train.csv')"
   ]
  },
  {
   "cell_type": "code",
   "execution_count": 52,
   "id": "10a4811a",
   "metadata": {},
   "outputs": [
    {
     "data": {
      "text/plain": [
       "Index(['Island', 'Clutch Completion', 'Culmen Length (mm)',\n",
       "       'Culmen Depth (mm)', 'Flipper Length (mm)', 'Body Mass (g)', 'Sex',\n",
       "       'Delta 15 N (o/oo)', 'Delta 13 C (o/oo)', 'Species'],\n",
       "      dtype='object')"
      ]
     },
     "execution_count": 52,
     "metadata": {},
     "output_type": "execute_result"
    }
   ],
   "source": [
    "df.columns"
   ]
  },
  {
   "cell_type": "code",
   "execution_count": 53,
   "id": "e38e5647",
   "metadata": {},
   "outputs": [
    {
     "data": {
      "text/plain": [
       "Island                                            Biscoe\n",
       "Clutch Completion                                     No\n",
       "Culmen Length (mm)                                 44.45\n",
       "Culmen Depth (mm)                                   17.3\n",
       "Flipper Length (mm)                                197.0\n",
       "Body Mass (g)                                     4000.0\n",
       "Sex                                                 MALE\n",
       "Delta 15 N (o/oo)                               8.656345\n",
       "Delta 13 C (o/oo)                              -25.85203\n",
       "Species                Gentoo penguin (Pygoscelis papua)\n",
       "Name: 169, dtype: object"
      ]
     },
     "metadata": {},
     "output_type": "display_data"
    }
   ],
   "source": [
    "df = df.astype({'Culmen Length (mm)':'float','Culmen Depth (mm)':'float', 'Flipper Length (mm)':'float', 'Body Mass (g)':'float', 'Delta 13 C (o/oo)':'float', 'Delta 15 N (o/oo)':'float'})\n",
    "x1 = df['Culmen Length (mm)'].median()\n",
    "x2 = df['Culmen Depth (mm)'].median()\n",
    "x3 = df['Flipper Length (mm)'].median()\n",
    "x4 = df['Body Mass (g)'].median()\n",
    "x5 = df['Delta 13 C (o/oo)'].median()\n",
    "x6 = df['Delta 15 N (o/oo)'].median()\n",
    "df['Culmen Length (mm)'].fillna(x1, inplace = True)\n",
    "df['Culmen Depth (mm)'].fillna(x2, inplace = True)\n",
    "df['Flipper Length (mm)'].fillna(x3, inplace = True)\n",
    "df['Body Mass (g)'].fillna(x4, inplace = True)\n",
    "df['Delta 13 C (o/oo)'].fillna(x5, inplace = True)\n",
    "df['Delta 15 N (o/oo)'].fillna(x6, inplace = True)\n",
    "df['Sex'].fillna('MALE', inplace = True)\n",
    "display(df.iloc[169])"
   ]
  },
  {
   "cell_type": "code",
   "execution_count": null,
   "id": "52f1c4ae",
   "metadata": {},
   "outputs": [],
   "source": []
  },
  {
   "cell_type": "code",
   "execution_count": null,
   "id": "53bdd705",
   "metadata": {},
   "outputs": [],
   "source": []
  }
 ],
 "metadata": {
  "kernelspec": {
   "display_name": "Python 3 (ipykernel)",
   "language": "python",
   "name": "python3"
  },
  "language_info": {
   "codemirror_mode": {
    "name": "ipython",
    "version": 3
   },
   "file_extension": ".py",
   "mimetype": "text/x-python",
   "name": "python",
   "nbconvert_exporter": "python",
   "pygments_lexer": "ipython3",
   "version": "3.10.6"
  }
 },
 "nbformat": 4,
 "nbformat_minor": 5
}
